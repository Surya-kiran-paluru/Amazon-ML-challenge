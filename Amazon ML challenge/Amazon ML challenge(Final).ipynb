{
 "cells": [
  {
   "cell_type": "code",
   "execution_count": null,
   "metadata": {},
   "outputs": [],
   "source": [
    "import pandas as pd\n",
    "import csv\n",
    "import numpy as np"
   ]
  },
  {
   "cell_type": "code",
   "execution_count": null,
   "metadata": {},
   "outputs": [],
   "source": [
    "from sklearn.feature_extraction.text import CountVectorizer\n",
    "from sklearn.feature_extraction.text import TfidfTransformer"
   ]
  },
  {
   "cell_type": "code",
   "execution_count": null,
   "metadata": {},
   "outputs": [],
   "source": [
    "from sklearn.neighbors import KNeighborsClassifier\n",
    "from sklearn.model_selection import train_test_split"
   ]
  },
  {
   "cell_type": "code",
   "execution_count": null,
   "metadata": {},
   "outputs": [],
   "source": [
    "from scipy.stats import mode"
   ]
  },
  {
   "cell_type": "code",
   "execution_count": null,
   "metadata": {},
   "outputs": [],
   "source": [
    "from sklearn.metrics import accuracy_score"
   ]
  },
  {
   "cell_type": "code",
   "execution_count": null,
   "metadata": {},
   "outputs": [],
   "source": [
    "df = pd.read_csv(r\"C:\\Users\\pskir\\Downloads\\dataset52a7b21\\dataset\\train.csv\",escapechar = \"\\\\\",quoting = csv.QUOTE_NONE)"
   ]
  },
  {
   "cell_type": "code",
   "execution_count": null,
   "metadata": {},
   "outputs": [],
   "source": [
    "df['TITLE'] = df[\"TITLE\"].fillna(\"NA\")\n",
    "df[\"DESCRIPTION\"] = df[\"DESCRIPTION\"].fillna(\"NA\")\n",
    "df[\"BULLET_POINTS\"] = df[\"BULLET_POINTS\"].fillna(\"NA\")\n",
    "df[\"BRAND\"] = df[\"BRAND\"].fillna(\"NA\")"
   ]
  },
  {
   "cell_type": "code",
   "execution_count": null,
   "metadata": {},
   "outputs": [],
   "source": [
    "df.info(verbose=True,null_counts=True)"
   ]
  },
  {
   "cell_type": "code",
   "execution_count": null,
   "metadata": {},
   "outputs": [],
   "source": [
    "count_vect_t = CountVectorizer(stop_words=\"english\")\n",
    "tfidf_t = TfidfTransformer()\n",
    "title_tfidf = tfidf_t.fit_transform(count_vect_t.fit_transform(df['TITLE'].values))\n",
    "title_tfidf.shape"
   ]
  },
  {
   "cell_type": "code",
   "execution_count": null,
   "metadata": {},
   "outputs": [],
   "source": [
    "count_vect_d = CountVectorizer(stop_words=\"english\")\n",
    "tfidf_d = TfidfTransformer()\n",
    "desc_tfidf = tfidf_d.fit_transform(count_vect_d.fit_transform(df['DESCRIPTION'].values))\n",
    "desc_tfidf.shape"
   ]
  },
  {
   "cell_type": "code",
   "execution_count": null,
   "metadata": {},
   "outputs": [],
   "source": [
    "count_vect_b = CountVectorizer(stop_words=\"english\")\n",
    "tfidf_b = TfidfTransformer()\n",
    "bullet_tfidf = tfidf_b.fit_transform(count_vect_b.fit_transform(df['BULLET_POINTS'].values))\n",
    "bullet_tfidf.shape"
   ]
  },
  {
   "cell_type": "code",
   "execution_count": null,
   "metadata": {},
   "outputs": [],
   "source": [
    "count_vect_br = CountVectorizer(stop_words=\"english\")\n",
    "tfidf_br = TfidfTransformer()\n",
    "brand_tfidf = tfidf_br.fit_transform(count_vect_br.fit_transform(df['BRAND'].values))\n",
    "brand_tfidf.shape"
   ]
  },
  {
   "cell_type": "code",
   "execution_count": null,
   "metadata": {},
   "outputs": [],
   "source": [
    "y = df.iloc[:,4].values"
   ]
  },
  {
   "cell_type": "code",
   "execution_count": null,
   "metadata": {},
   "outputs": [],
   "source": [
    "t_train,t_test,t_y_train,t_y_test = train_test_split(title_tfidf,y,test_size=0.00005,random_state = 0)"
   ]
  },
  {
   "cell_type": "code",
   "execution_count": null,
   "metadata": {},
   "outputs": [],
   "source": [
    "d_train,d_test,d_y_train,d_y_test = train_test_split(desc_tfidf,y,test_size=0.00005,random_state = 0)"
   ]
  },
  {
   "cell_type": "code",
   "execution_count": null,
   "metadata": {},
   "outputs": [],
   "source": [
    "b_train,b_test,b_y_train,b_y_test = train_test_split(bullet_tfidf,y,test_size=0.00005,random_state = 0)"
   ]
  },
  {
   "cell_type": "code",
   "execution_count": null,
   "metadata": {},
   "outputs": [],
   "source": [
    "br_train,br_test,br_y_train,br_y_test = train_test_split(brand_tfidf,y,test_size=0.00005,random_state = 0)"
   ]
  },
  {
   "cell_type": "code",
   "execution_count": null,
   "metadata": {},
   "outputs": [],
   "source": [
    "KNN_t = KNeighborsClassifier(n_neighbors=3,n_jobs=-1)\n",
    "KNN_d = KNeighborsClassifier(n_neighbors=3,n_jobs=-1)\n",
    "KNN_b = KNeighborsClassifier(n_neighbors=3,n_jobs=-1)\n",
    "KNN_br = KNeighborsClassifier(n_neighbors=3,n_jobs=-1)"
   ]
  },
  {
   "cell_type": "code",
   "execution_count": null,
   "metadata": {},
   "outputs": [],
   "source": [
    "KNN_t.fit(t_train,t_y_train)"
   ]
  },
  {
   "cell_type": "code",
   "execution_count": null,
   "metadata": {},
   "outputs": [],
   "source": [
    "KNN_d.fit(d_train,d_y_train)"
   ]
  },
  {
   "cell_type": "code",
   "execution_count": null,
   "metadata": {},
   "outputs": [],
   "source": [
    "KNN_b.fit(b_train,b_y_train)"
   ]
  },
  {
   "cell_type": "code",
   "execution_count": null,
   "metadata": {},
   "outputs": [],
   "source": [
    "KNN_br.fit(br_train,br_y_train)"
   ]
  },
  {
   "cell_type": "code",
   "execution_count": null,
   "metadata": {},
   "outputs": [],
   "source": [
    "t_pred = KNN_t.predict(t_test)"
   ]
  },
  {
   "cell_type": "code",
   "execution_count": null,
   "metadata": {},
   "outputs": [],
   "source": [
    "d_pred = KNN_d.predict(d_test)"
   ]
  },
  {
   "cell_type": "code",
   "execution_count": null,
   "metadata": {},
   "outputs": [],
   "source": [
    "b_pred = KNN_b.predict(b_test)"
   ]
  },
  {
   "cell_type": "code",
   "execution_count": null,
   "metadata": {},
   "outputs": [],
   "source": [
    "br_pred = KNN_br.predict(br_test)"
   ]
  },
  {
   "cell_type": "code",
   "execution_count": null,
   "metadata": {},
   "outputs": [],
   "source": [
    "pred_y = np.stack( (t_pred,d_pred,b_pred,br_pred) , axis=1 )"
   ]
  },
  {
   "cell_type": "code",
   "execution_count": null,
   "metadata": {},
   "outputs": [],
   "source": [
    "final_pred = np.array([],dtype='i')\n",
    "for k in pred_y:\n",
    "    #print(mode(x)[0])\n",
    "    final_pred = np.append(final_pred,int(mode(k)[0]))"
   ]
  },
  {
   "cell_type": "code",
   "execution_count": null,
   "metadata": {},
   "outputs": [],
   "source": [
    "accuracy_score(final_pred,y_test)"
   ]
  },
  {
   "cell_type": "code",
   "execution_count": null,
   "metadata": {},
   "outputs": [],
   "source": [
    "df_test = pd.read_csv(r\"C:\\Users\\pskir\\Downloads\\dataset52a7b21\\dataset\\test.csv\",escapechar = \"\\\\\",quoting = csv.QUOTE_NONE)"
   ]
  },
  {
   "cell_type": "code",
   "execution_count": null,
   "metadata": {},
   "outputs": [],
   "source": [
    "df_test['TITLE'] = df_test[\"TITLE\"].fillna(\"NA\")\n",
    "df_test[\"DESCRIPTION\"] = df_test[\"DESCRIPTION\"].fillna(\"NA\")\n",
    "df_test[\"BULLET_POINTS\"] = df_test[\"BULLET_POINTS\"].fillna(\"NA\")\n",
    "df_test[\"BRAND\"] = df_test[\"BRAND\"].fillna(\"NA\")"
   ]
  },
  {
   "cell_type": "code",
   "execution_count": null,
   "metadata": {},
   "outputs": [],
   "source": [
    "test_pred_t = KNN_t.predict(tfidf_t.transform(count_vect_t.transform(df_test['TITLE'].values)))"
   ]
  },
  {
   "cell_type": "code",
   "execution_count": null,
   "metadata": {},
   "outputs": [],
   "source": [
    "test_pred_d = KNN_d.predict(tfidf_d.transform(count_vect_d.transform(df_test['TITLE'].values)))"
   ]
  },
  {
   "cell_type": "code",
   "execution_count": null,
   "metadata": {},
   "outputs": [],
   "source": [
    "test_pred_b = KNN_b.predict(tfidf_b.transform(count_vect_b.transform(df_test['TITLE'].values)))"
   ]
  },
  {
   "cell_type": "code",
   "execution_count": null,
   "metadata": {},
   "outputs": [],
   "source": [
    "test_pred_br = KNN_br.predict(tfidf_br.transform(count_vect_br.transform(df_test['TITLE'].values)))"
   ]
  },
  {
   "cell_type": "code",
   "execution_count": null,
   "metadata": {},
   "outputs": [],
   "source": [
    "final_pred_all = np.stack( (test_pred_t,test_pred_d,test_pred_b,test_pred_br) , axis=1 )"
   ]
  },
  {
   "cell_type": "code",
   "execution_count": null,
   "metadata": {},
   "outputs": [],
   "source": [
    "final_pred = np.array([],dtype='i')\n",
    "for k in final_pred_all:\n",
    "    #print(mode(x)[0])\n",
    "    final_pred = np.append(final_pred,int(mode(k)[0]))"
   ]
  },
  {
   "cell_type": "code",
   "execution_count": null,
   "metadata": {},
   "outputs": [],
   "source": [
    "csv_file = open('F:\\sss\\predictions.csv', 'w')\n",
    "csv_writer = csv.writer(csv_file,delimiter=',', lineterminator='\\n')\n",
    "for pp in range(len(test_pred_t)):\n",
    "    csv_writer.writerow([df_test[\"PRODUCT_ID\"][pp],test_pred_t[pp]])\n",
    "csv_file.close()"
   ]
  }
 ],
 "metadata": {
  "kernelspec": {
   "display_name": "Python 3",
   "language": "python",
   "name": "python3"
  },
  "language_info": {
   "codemirror_mode": {
    "name": "ipython",
    "version": 3
   },
   "file_extension": ".py",
   "mimetype": "text/x-python",
   "name": "python",
   "nbconvert_exporter": "python",
   "pygments_lexer": "ipython3",
   "version": "3.8.5"
  }
 },
 "nbformat": 4,
 "nbformat_minor": 4
}
